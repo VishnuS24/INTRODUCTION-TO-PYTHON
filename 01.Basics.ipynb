{
  "nbformat": 4,
  "nbformat_minor": 0,
  "metadata": {
    "colab": {
      "provenance": [],
      "authorship_tag": "ABX9TyMgL6GxUmY87bbdoyGZbiQR",
      "include_colab_link": true
    },
    "kernelspec": {
      "name": "python3",
      "display_name": "Python 3"
    },
    "language_info": {
      "name": "python"
    }
  },
  "cells": [
    {
      "cell_type": "markdown",
      "metadata": {
        "id": "view-in-github",
        "colab_type": "text"
      },
      "source": [
        "<a href=\"https://colab.research.google.com/github/VishnuS24/INTRODUCTION-TO-PYTHON/blob/main/01.Basics.ipynb\" target=\"_parent\"><img src=\"https://colab.research.google.com/assets/colab-badge.svg\" alt=\"Open In Colab\"/></a>"
      ]
    },
    {
      "cell_type": "code",
      "execution_count": 1,
      "metadata": {
        "colab": {
          "base_uri": "https://localhost:8080/"
        },
        "id": "ubnXecuSgzoH",
        "outputId": "a8a19505-3235-4476-a909-7d9ff7083323"
      },
      "outputs": [
        {
          "output_type": "execute_result",
          "data": {
            "text/plain": [
              "45"
            ]
          },
          "metadata": {},
          "execution_count": 1
        }
      ],
      "source": [
        "30+15"
      ]
    },
    {
      "cell_type": "code",
      "source": [
        "30*15\n"
      ],
      "metadata": {
        "colab": {
          "base_uri": "https://localhost:8080/"
        },
        "id": "PJvloyeNhc6T",
        "outputId": "c14af507-8cac-44fd-9df0-fa6c78ef861f"
      },
      "execution_count": 2,
      "outputs": [
        {
          "output_type": "execute_result",
          "data": {
            "text/plain": [
              "450"
            ]
          },
          "metadata": {},
          "execution_count": 2
        }
      ]
    },
    {
      "cell_type": "code",
      "source": [
        "30/15"
      ],
      "metadata": {
        "colab": {
          "base_uri": "https://localhost:8080/"
        },
        "id": "d3pWbFcPhtsr",
        "outputId": "68d6e12b-1dfd-4261-ee52-96102bd02586"
      },
      "execution_count": 3,
      "outputs": [
        {
          "output_type": "execute_result",
          "data": {
            "text/plain": [
              "2.0"
            ]
          },
          "metadata": {},
          "execution_count": 3
        }
      ]
    },
    {
      "cell_type": "code",
      "source": [
        "30-15"
      ],
      "metadata": {
        "colab": {
          "base_uri": "https://localhost:8080/"
        },
        "id": "jFpF6C5Yhvi4",
        "outputId": "4d876d4f-cdf1-4c5b-db6c-1be61dccaf1f"
      },
      "execution_count": 4,
      "outputs": [
        {
          "output_type": "execute_result",
          "data": {
            "text/plain": [
              "15"
            ]
          },
          "metadata": {},
          "execution_count": 4
        }
      ]
    },
    {
      "cell_type": "code",
      "source": [
        "x=10"
      ],
      "metadata": {
        "id": "ywvtL0EehyTf"
      },
      "execution_count": 5,
      "outputs": []
    },
    {
      "cell_type": "code",
      "source": [
        "print(x)"
      ],
      "metadata": {
        "colab": {
          "base_uri": "https://localhost:8080/"
        },
        "id": "9QmtxfIniSTn",
        "outputId": "4bc58f94-fb55-4bf4-fb05-9dc258bce220"
      },
      "execution_count": 6,
      "outputs": [
        {
          "output_type": "stream",
          "name": "stdout",
          "text": [
            "10\n"
          ]
        }
      ]
    },
    {
      "cell_type": "code",
      "source": [
        "y=20"
      ],
      "metadata": {
        "id": "I-ql7XzsiWui"
      },
      "execution_count": 7,
      "outputs": []
    },
    {
      "cell_type": "code",
      "source": [
        "print(x,y)"
      ],
      "metadata": {
        "colab": {
          "base_uri": "https://localhost:8080/"
        },
        "id": "8mpXLSPDi69T",
        "outputId": "07c2fd70-d689-4eae-bc18-062ac34f1ca9"
      },
      "execution_count": 8,
      "outputs": [
        {
          "output_type": "stream",
          "name": "stdout",
          "text": [
            "10 20\n"
          ]
        }
      ]
    },
    {
      "cell_type": "code",
      "source": [
        "print(x+y)"
      ],
      "metadata": {
        "colab": {
          "base_uri": "https://localhost:8080/"
        },
        "id": "yuwxzWoLjVXa",
        "outputId": "3a0bc624-93f9-4d2c-d1c6-3c25652fc077"
      },
      "execution_count": 9,
      "outputs": [
        {
          "output_type": "stream",
          "name": "stdout",
          "text": [
            "30\n"
          ]
        }
      ]
    },
    {
      "cell_type": "code",
      "source": [
        "print(x-y)"
      ],
      "metadata": {
        "colab": {
          "base_uri": "https://localhost:8080/"
        },
        "id": "AouAa8uKjiFq",
        "outputId": "ce2d94f3-861d-4818-fbd1-d865d6d4a902"
      },
      "execution_count": 10,
      "outputs": [
        {
          "output_type": "stream",
          "name": "stdout",
          "text": [
            "-10\n"
          ]
        }
      ]
    },
    {
      "cell_type": "code",
      "source": [
        "print(x*y)"
      ],
      "metadata": {
        "colab": {
          "base_uri": "https://localhost:8080/"
        },
        "id": "55x2HC9Wjkcq",
        "outputId": "fd8320eb-9d14-435f-d692-8e774aa1929f"
      },
      "execution_count": 11,
      "outputs": [
        {
          "output_type": "stream",
          "name": "stdout",
          "text": [
            "200\n"
          ]
        }
      ]
    },
    {
      "cell_type": "code",
      "source": [
        "x/y"
      ],
      "metadata": {
        "colab": {
          "base_uri": "https://localhost:8080/"
        },
        "id": "KcVNwemOjnIT",
        "outputId": "638b9559-9283-4f64-f00d-dcf70c029877"
      },
      "execution_count": 12,
      "outputs": [
        {
          "output_type": "execute_result",
          "data": {
            "text/plain": [
              "0.5"
            ]
          },
          "metadata": {},
          "execution_count": 12
        }
      ]
    },
    {
      "cell_type": "code",
      "source": [
        "x='amal pramod'"
      ],
      "metadata": {
        "id": "JjfSeNpLjqv3"
      },
      "execution_count": 13,
      "outputs": []
    },
    {
      "cell_type": "code",
      "source": [
        "y=\"amal pramod\""
      ],
      "metadata": {
        "id": "3cFQPlWIkTbf"
      },
      "execution_count": 14,
      "outputs": []
    },
    {
      "cell_type": "code",
      "source": [
        "print(x,y)"
      ],
      "metadata": {
        "colab": {
          "base_uri": "https://localhost:8080/"
        },
        "id": "Q_upQOlfkX2m",
        "outputId": "51389c4f-1373-47bd-ccf2-06c1ef568283"
      },
      "execution_count": 15,
      "outputs": [
        {
          "output_type": "stream",
          "name": "stdout",
          "text": [
            "amal pramod amal pramod\n"
          ]
        }
      ]
    },
    {
      "cell_type": "code",
      "source": [
        "print(0)"
      ],
      "metadata": {
        "colab": {
          "base_uri": "https://localhost:8080/"
        },
        "id": "spq2Sl7dke4U",
        "outputId": "da75f96a-c378-4fca-cc9b-f26fc183f911"
      },
      "execution_count": 16,
      "outputs": [
        {
          "output_type": "stream",
          "name": "stdout",
          "text": [
            "0\n"
          ]
        }
      ]
    },
    {
      "cell_type": "code",
      "source": [
        "x[0]"
      ],
      "metadata": {
        "colab": {
          "base_uri": "https://localhost:8080/",
          "height": 35
        },
        "id": "-X3wn3qgls3S",
        "outputId": "f642cbd5-2e2f-419a-e14f-e737014f0bb5"
      },
      "execution_count": 17,
      "outputs": [
        {
          "output_type": "execute_result",
          "data": {
            "text/plain": [
              "'a'"
            ],
            "application/vnd.google.colaboratory.intrinsic+json": {
              "type": "string"
            }
          },
          "metadata": {},
          "execution_count": 17
        }
      ]
    },
    {
      "cell_type": "code",
      "source": [
        "x[10]"
      ],
      "metadata": {
        "colab": {
          "base_uri": "https://localhost:8080/",
          "height": 35
        },
        "id": "iALbeSJGlw0b",
        "outputId": "8c030546-0097-48fc-bf97-afbf11768f45"
      },
      "execution_count": 18,
      "outputs": [
        {
          "output_type": "execute_result",
          "data": {
            "text/plain": [
              "'d'"
            ],
            "application/vnd.google.colaboratory.intrinsic+json": {
              "type": "string"
            }
          },
          "metadata": {},
          "execution_count": 18
        }
      ]
    },
    {
      "cell_type": "code",
      "source": [
        "x[-1]"
      ],
      "metadata": {
        "colab": {
          "base_uri": "https://localhost:8080/",
          "height": 35
        },
        "id": "4exTUgXImHrZ",
        "outputId": "f5442f1a-2643-42c4-e755-5692f9033574"
      },
      "execution_count": 19,
      "outputs": [
        {
          "output_type": "execute_result",
          "data": {
            "text/plain": [
              "'d'"
            ],
            "application/vnd.google.colaboratory.intrinsic+json": {
              "type": "string"
            }
          },
          "metadata": {},
          "execution_count": 19
        }
      ]
    },
    {
      "cell_type": "code",
      "source": [
        "x[-9]"
      ],
      "metadata": {
        "colab": {
          "base_uri": "https://localhost:8080/",
          "height": 35
        },
        "id": "OSOKjwa7mzVY",
        "outputId": "1fbdcfbc-5102-419a-f4b9-6f8b897ace94"
      },
      "execution_count": 20,
      "outputs": [
        {
          "output_type": "execute_result",
          "data": {
            "text/plain": [
              "'a'"
            ],
            "application/vnd.google.colaboratory.intrinsic+json": {
              "type": "string"
            }
          },
          "metadata": {},
          "execution_count": 20
        }
      ]
    },
    {
      "cell_type": "code",
      "source": [
        "x[0:4]"
      ],
      "metadata": {
        "colab": {
          "base_uri": "https://localhost:8080/",
          "height": 35
        },
        "id": "0T0qAN1om9bt",
        "outputId": "e4186935-74e0-494b-c55c-7a294b25650d"
      },
      "execution_count": 21,
      "outputs": [
        {
          "output_type": "execute_result",
          "data": {
            "text/plain": [
              "'amal'"
            ],
            "application/vnd.google.colaboratory.intrinsic+json": {
              "type": "string"
            }
          },
          "metadata": {},
          "execution_count": 21
        }
      ]
    },
    {
      "cell_type": "code",
      "source": [
        "x[5:11]"
      ],
      "metadata": {
        "colab": {
          "base_uri": "https://localhost:8080/",
          "height": 35
        },
        "id": "MtDdGticn-Cr",
        "outputId": "80866312-c58d-4f01-d211-e46ebfca7256"
      },
      "execution_count": 22,
      "outputs": [
        {
          "output_type": "execute_result",
          "data": {
            "text/plain": [
              "'pramod'"
            ],
            "application/vnd.google.colaboratory.intrinsic+json": {
              "type": "string"
            }
          },
          "metadata": {},
          "execution_count": 22
        }
      ]
    },
    {
      "cell_type": "code",
      "source": [
        "x[-11:-7]"
      ],
      "metadata": {
        "colab": {
          "base_uri": "https://localhost:8080/",
          "height": 35
        },
        "id": "-hT-OIQKoGc1",
        "outputId": "fcf52f3c-9c7d-436d-c4a0-39c6e4b36a99"
      },
      "execution_count": 23,
      "outputs": [
        {
          "output_type": "execute_result",
          "data": {
            "text/plain": [
              "'amal'"
            ],
            "application/vnd.google.colaboratory.intrinsic+json": {
              "type": "string"
            }
          },
          "metadata": {},
          "execution_count": 23
        }
      ]
    },
    {
      "cell_type": "code",
      "source": [
        "x[-6:0]"
      ],
      "metadata": {
        "colab": {
          "base_uri": "https://localhost:8080/",
          "height": 35
        },
        "id": "LuxaVBWyoi53",
        "outputId": "c103256e-84db-4fb5-c940-0a39d7477642"
      },
      "execution_count": 24,
      "outputs": [
        {
          "output_type": "execute_result",
          "data": {
            "text/plain": [
              "''"
            ],
            "application/vnd.google.colaboratory.intrinsic+json": {
              "type": "string"
            }
          },
          "metadata": {},
          "execution_count": 24
        }
      ]
    },
    {
      "cell_type": "code",
      "source": [
        "x[-6:-1]"
      ],
      "metadata": {
        "colab": {
          "base_uri": "https://localhost:8080/",
          "height": 35
        },
        "id": "MhXZpDA4oqYt",
        "outputId": "9c83b5ae-d890-474c-895a-d37f5a047c7e"
      },
      "execution_count": 25,
      "outputs": [
        {
          "output_type": "execute_result",
          "data": {
            "text/plain": [
              "'pramo'"
            ],
            "application/vnd.google.colaboratory.intrinsic+json": {
              "type": "string"
            }
          },
          "metadata": {},
          "execution_count": 25
        }
      ]
    },
    {
      "cell_type": "code",
      "source": [
        "x[-6:]"
      ],
      "metadata": {
        "colab": {
          "base_uri": "https://localhost:8080/",
          "height": 35
        },
        "id": "c1YEoExupVBj",
        "outputId": "b6102d40-0355-467f-dd54-0cb2f206980b"
      },
      "execution_count": 26,
      "outputs": [
        {
          "output_type": "execute_result",
          "data": {
            "text/plain": [
              "'pramod'"
            ],
            "application/vnd.google.colaboratory.intrinsic+json": {
              "type": "string"
            }
          },
          "metadata": {},
          "execution_count": 26
        }
      ]
    },
    {
      "cell_type": "code",
      "source": [
        "print(x+\" \"+y)"
      ],
      "metadata": {
        "colab": {
          "base_uri": "https://localhost:8080/"
        },
        "id": "b7RiA_y2tk3C",
        "outputId": "0be5fb94-d647-4a4a-c1fc-d39f3e563a6a"
      },
      "execution_count": 27,
      "outputs": [
        {
          "output_type": "stream",
          "name": "stdout",
          "text": [
            "amal pramod amal pramod\n"
          ]
        }
      ]
    },
    {
      "cell_type": "code",
      "source": [
        "x=\"10\"\n",
        "y=\"20\"\n",
        "print(x+y)"
      ],
      "metadata": {
        "colab": {
          "base_uri": "https://localhost:8080/"
        },
        "id": "s5OobHcHtuR7",
        "outputId": "dfc94e41-4997-46d3-bc99-97e9f47fd8a2"
      },
      "execution_count": 28,
      "outputs": [
        {
          "output_type": "stream",
          "name": "stdout",
          "text": [
            "1020\n"
          ]
        }
      ]
    },
    {
      "cell_type": "code",
      "source": [
        "print(type(x))"
      ],
      "metadata": {
        "colab": {
          "base_uri": "https://localhost:8080/"
        },
        "id": "4PMf0RC6uQfP",
        "outputId": "eea85247-851b-428c-edc1-47b1a3014d1d"
      },
      "execution_count": 29,
      "outputs": [
        {
          "output_type": "stream",
          "name": "stdout",
          "text": [
            "<class 'str'>\n"
          ]
        }
      ]
    },
    {
      "cell_type": "code",
      "source": [
        "x=10.5\n",
        "print(type(x))"
      ],
      "metadata": {
        "colab": {
          "base_uri": "https://localhost:8080/"
        },
        "id": "pnFGW5mAvDgQ",
        "outputId": "cd40bf22-fc2c-4e4f-b9ad-009efcd8481b"
      },
      "execution_count": 30,
      "outputs": [
        {
          "output_type": "stream",
          "name": "stdout",
          "text": [
            "<class 'float'>\n"
          ]
        }
      ]
    },
    {
      "cell_type": "code",
      "source": [
        "input(\"enter your name\")"
      ],
      "metadata": {
        "colab": {
          "base_uri": "https://localhost:8080/",
          "height": 53
        },
        "id": "E6c1U5RovLjO",
        "outputId": "9419b819-d158-4356-a394-0f1055aa745b"
      },
      "execution_count": 31,
      "outputs": [
        {
          "name": "stdout",
          "output_type": "stream",
          "text": [
            "enter your name7\n"
          ]
        },
        {
          "output_type": "execute_result",
          "data": {
            "text/plain": [
              "'7'"
            ],
            "application/vnd.google.colaboratory.intrinsic+json": {
              "type": "string"
            }
          },
          "metadata": {},
          "execution_count": 31
        }
      ]
    },
    {
      "cell_type": "code",
      "source": [
        "print(x)"
      ],
      "metadata": {
        "colab": {
          "base_uri": "https://localhost:8080/"
        },
        "id": "38ADHwmZvkSf",
        "outputId": "91b9eac2-8a44-4358-b22c-47653d862109"
      },
      "execution_count": 32,
      "outputs": [
        {
          "output_type": "stream",
          "name": "stdout",
          "text": [
            "10.5\n"
          ]
        }
      ]
    },
    {
      "cell_type": "code",
      "source": [
        "x=input(\"enter your name\")"
      ],
      "metadata": {
        "colab": {
          "base_uri": "https://localhost:8080/"
        },
        "id": "zhMQV1d6vtlY",
        "outputId": "21222b76-2ca0-48d3-c9ee-7feb845c9dd9"
      },
      "execution_count": 33,
      "outputs": [
        {
          "name": "stdout",
          "output_type": "stream",
          "text": [
            "enter your name5\n"
          ]
        }
      ]
    },
    {
      "cell_type": "code",
      "source": [
        "print(x)"
      ],
      "metadata": {
        "colab": {
          "base_uri": "https://localhost:8080/"
        },
        "id": "7OtzbLL5vzpz",
        "outputId": "1ef0545f-b9ae-4c4f-9acb-57b3fba2bae0"
      },
      "execution_count": 34,
      "outputs": [
        {
          "output_type": "stream",
          "name": "stdout",
          "text": [
            "5\n"
          ]
        }
      ]
    },
    {
      "cell_type": "code",
      "source": [
        "x=input(\"entr your marks\")"
      ],
      "metadata": {
        "colab": {
          "base_uri": "https://localhost:8080/"
        },
        "id": "OYjRSTUCwWBQ",
        "outputId": "62003bbc-e351-4f38-a767-e644fbaf5eef"
      },
      "execution_count": 35,
      "outputs": [
        {
          "name": "stdout",
          "output_type": "stream",
          "text": [
            "entr your marks25\n"
          ]
        }
      ]
    },
    {
      "cell_type": "code",
      "source": [
        "print(x)\n",
        "print(type(x))"
      ],
      "metadata": {
        "colab": {
          "base_uri": "https://localhost:8080/"
        },
        "id": "ZlP-ddKAwxtU",
        "outputId": "c1bf826f-60cf-4cda-e2dc-b7c8d41fa77f"
      },
      "execution_count": 36,
      "outputs": [
        {
          "output_type": "stream",
          "name": "stdout",
          "text": [
            "25\n",
            "<class 'str'>\n"
          ]
        }
      ]
    },
    {
      "cell_type": "code",
      "source": [
        "x=int(input(\"enter your marks\"))"
      ],
      "metadata": {
        "colab": {
          "base_uri": "https://localhost:8080/"
        },
        "id": "yBFM5tslw7LQ",
        "outputId": "bd25b8db-3e28-451f-d94c-6265e434453a"
      },
      "execution_count": 37,
      "outputs": [
        {
          "name": "stdout",
          "output_type": "stream",
          "text": [
            "enter your marks8\n"
          ]
        }
      ]
    },
    {
      "cell_type": "code",
      "source": [
        "print(type(x))"
      ],
      "metadata": {
        "colab": {
          "base_uri": "https://localhost:8080/"
        },
        "id": "je_p13fqxBpc",
        "outputId": "e0aa2252-55d2-4833-92e1-453549375540"
      },
      "execution_count": 38,
      "outputs": [
        {
          "output_type": "stream",
          "name": "stdout",
          "text": [
            "<class 'int'>\n"
          ]
        }
      ]
    },
    {
      "cell_type": "code",
      "source": [
        "x=int(input(\"enter your ist no\"))\n",
        "y=int(input(\"enter your 2nd no\"))\n",
        "print(x+y)\n",
        "print(x/y)\n",
        "print(x*y)"
      ],
      "metadata": {
        "colab": {
          "base_uri": "https://localhost:8080/"
        },
        "id": "6cjvagRbxicl",
        "outputId": "4754497c-3a36-4225-b4af-dd02edd21e9c"
      },
      "execution_count": 39,
      "outputs": [
        {
          "output_type": "stream",
          "name": "stdout",
          "text": [
            "enter your ist no9\n",
            "enter your 2nd no4\n",
            "13\n",
            "2.25\n",
            "36\n"
          ]
        }
      ]
    },
    {
      "cell_type": "code",
      "source": [
        "I=int(input(\"enter the current measured\"))\n",
        "R=int(input(\"enter the resistance value\"))\n",
        "V=I*R\n",
        "print(V)"
      ],
      "metadata": {
        "colab": {
          "base_uri": "https://localhost:8080/"
        },
        "id": "2bw2zaHNx4rM",
        "outputId": "d6258cc4-fa27-45fe-f28d-776f1fce5e66"
      },
      "execution_count": 40,
      "outputs": [
        {
          "output_type": "stream",
          "name": "stdout",
          "text": [
            "enter the current measured6\n",
            "enter the resistance value2\n",
            "12\n"
          ]
        }
      ]
    },
    {
      "cell_type": "code",
      "source": [
        "print(\"voltage=\",I*R)"
      ],
      "metadata": {
        "colab": {
          "base_uri": "https://localhost:8080/"
        },
        "id": "2AWUf7m9ysMF",
        "outputId": "18d09a82-afdb-4377-bbb1-1f5de7c58963"
      },
      "execution_count": 41,
      "outputs": [
        {
          "output_type": "stream",
          "name": "stdout",
          "text": [
            "voltage= 12\n"
          ]
        }
      ]
    },
    {
      "cell_type": "code",
      "source": [
        "a=int(input(\"enter your marks:\"))\n",
        "if a>120:\n",
        "  print(\"PASSED\")\n",
        "else:\n",
        "    print(\"FAILED\")"
      ],
      "metadata": {
        "colab": {
          "base_uri": "https://localhost:8080/"
        },
        "id": "Egbig7WLy8y5",
        "outputId": "ccb07603-dfe5-4a94-9d4d-c16b90045562"
      },
      "execution_count": 42,
      "outputs": [
        {
          "output_type": "stream",
          "name": "stdout",
          "text": [
            "enter your marks:5\n",
            "FAILED\n"
          ]
        }
      ]
    },
    {
      "cell_type": "code",
      "source": [
        "x=int(input(\"enter your marks\"))\n",
        "if 0<x<20:\n",
        "    print(\"FAILED\")\n",
        "if 21<x<50:\n",
        "      print(\"PASSED\")\n",
        "if 51<x<75:\n",
        "        print(\"DISTINCTION\")\n",
        "if 76<x<100:\n",
        "        print('ist classs')\n",
        "if x>80:\n",
        "  y=int(input(\"Enter no of arreirs\"))\n",
        "  if y==0:\n",
        "    print(\"DISTINCTION\")\n",
        "  if y>0:\n",
        "    print(\"NO DISTINCTION\")"
      ],
      "metadata": {
        "colab": {
          "base_uri": "https://localhost:8080/"
        },
        "id": "UpfTH20E1Hn8",
        "outputId": "e0de5828-6023-4c1e-fad7-0510f8140c0b"
      },
      "execution_count": 43,
      "outputs": [
        {
          "output_type": "stream",
          "name": "stdout",
          "text": [
            "enter your marks4\n",
            "FAILED\n"
          ]
        }
      ]
    },
    {
      "cell_type": "code",
      "source": [
        "x=int(input(\"enter your marks\"))\n",
        "if x>80:\n",
        "  y=int(input(\"Enter no of arreirs\"))\n",
        "  if y==0:\n",
        "    print(\"DISTINCTION\")\n",
        "  if y>0:\n",
        "    print(\"NO DISTINCTION\")\n",
        "\n"
      ],
      "metadata": {
        "colab": {
          "base_uri": "https://localhost:8080/"
        },
        "id": "jSznln8E2-B_",
        "outputId": "8174d6fc-1038-49ef-a3d9-5f9e68c5b696"
      },
      "execution_count": 44,
      "outputs": [
        {
          "name": "stdout",
          "output_type": "stream",
          "text": [
            "enter your marks6\n"
          ]
        }
      ]
    },
    {
      "cell_type": "code",
      "source": [
        "x=int(input(\"enter the number\"))\n",
        "y=x%2\n",
        "if y==0:\n",
        "  print(\"EVEN NUMBER\")\n",
        "if y!=0:\n",
        "  print(\"ODD NUMBER\")  "
      ],
      "metadata": {
        "colab": {
          "base_uri": "https://localhost:8080/"
        },
        "id": "4NA_bdCG6DT5",
        "outputId": "6e9bea25-7b69-43a0-e33f-63631639ec88"
      },
      "execution_count": 45,
      "outputs": [
        {
          "output_type": "stream",
          "name": "stdout",
          "text": [
            "enter the number4\n",
            "EVEN NUMBER\n"
          ]
        }
      ]
    },
    {
      "cell_type": "code",
      "source": [
        "y=0\n",
        "for k in range(10):\n",
        "   y=y+k\n",
        "    if k==10:\n",
        "     print(y)"
      ],
      "metadata": {
        "colab": {
          "base_uri": "https://localhost:8080/",
          "height": 130
        },
        "id": "vW-ydE9yHx1k",
        "outputId": "46f08b05-2cd0-4127-b155-725ef7039680"
      },
      "execution_count": 46,
      "outputs": [
        {
          "output_type": "error",
          "ename": "IndentationError",
          "evalue": "ignored",
          "traceback": [
            "\u001b[0;36m  File \u001b[0;32m\"<ipython-input-46-bc354d9cba52>\"\u001b[0;36m, line \u001b[0;32m4\u001b[0m\n\u001b[0;31m    if k==10:\u001b[0m\n\u001b[0m    ^\u001b[0m\n\u001b[0;31mIndentationError\u001b[0m\u001b[0;31m:\u001b[0m unexpected indent\n"
          ]
        }
      ]
    },
    {
      "cell_type": "code",
      "source": [
        "y=1\n",
        "for k in range(101):\n",
        " if k%2==0:\n",
        "    y=y+k\n",
        "print(y)\n"
      ],
      "metadata": {
        "id": "NM68ZacfKS61"
      },
      "execution_count": null,
      "outputs": []
    },
    {
      "cell_type": "code",
      "source": [
        "x=1\n",
        "for k in range(1,101):\n",
        "  x=x*k\n",
        "print(x)\n",
        "\n"
      ],
      "metadata": {
        "id": "S2KCsEKrOsqS"
      },
      "execution_count": null,
      "outputs": []
    },
    {
      "cell_type": "code",
      "source": [
        "for k in range(100):\n",
        "  if k==5:\n",
        "    break;\n",
        "  print(k)  "
      ],
      "metadata": {
        "id": "Q2qM7FNcOsu6"
      },
      "execution_count": null,
      "outputs": []
    },
    {
      "cell_type": "markdown",
      "source": [],
      "metadata": {
        "id": "87lyNY3zVqMo"
      }
    },
    {
      "cell_type": "code",
      "source": [
        "for k in range(100):\n",
        "  x=int(input(\"enter the number\"))\n",
        "  y=int(input(\"enter the number\")\n",
        "  if y==0:\n",
        "    break;\n",
        "    print(x)\n",
        "      if y==1:\n",
        "      x=x+k\n",
        "      print(x)\n",
        "  \n",
        "    "
      ],
      "metadata": {
        "id": "5UpFAAHSTASB"
      },
      "execution_count": null,
      "outputs": []
    },
    {
      "cell_type": "code",
      "source": [
        "sum=0\n",
        "for k in range(100):\n",
        "  x=int(input(\"ENTER A NO\"))\n",
        "  sum=sum+x\n",
        "  y=int(input(\"press 0 to confirm or 1\"))\n",
        "  if y==0:\n",
        "    break;\n",
        "  print(sum)"
      ],
      "metadata": {
        "id": "452c7jADWc9o"
      },
      "execution_count": null,
      "outputs": []
    },
    {
      "cell_type": "code",
      "source": [
        "\n",
        "k=0\n",
        "while(k<100):\n",
        "    print(k)\n",
        "    k=k+1"
      ],
      "metadata": {
        "id": "XNTI-W5xZceJ"
      },
      "execution_count": null,
      "outputs": []
    },
    {
      "cell_type": "code",
      "source": [
        "k=0\n",
        "sum=0\n",
        "while(k<=100):\n",
        "    sum=sum+k\n",
        "    k=k+1\n",
        "print(sum)\n",
        "    "
      ],
      "metadata": {
        "id": "QZ16ECkPbLAN"
      },
      "execution_count": null,
      "outputs": []
    },
    {
      "cell_type": "code",
      "source": [
        "k=0\n",
        "sum=0\n",
        "while(k<=100):\n",
        "  if k%2==1:\n",
        "    sum=sum+k\n",
        "  k=k+1\n",
        "print(sum)"
      ],
      "metadata": {
        "id": "io4Xkx61cKFE"
      },
      "execution_count": null,
      "outputs": []
    },
    {
      "cell_type": "code",
      "source": [
        "for x in range(10):\n",
        " if x==5:\n",
        "  continue;\n",
        " print(x)"
      ],
      "metadata": {
        "id": "AocvzQvvdufv"
      },
      "execution_count": null,
      "outputs": []
    },
    {
      "cell_type": "code",
      "source": [
        "for x in range(100):\n",
        "  if x%2==0:\n",
        "    continue;\n",
        "  print(x) "
      ],
      "metadata": {
        "id": "QndPDEr9fqY_"
      },
      "execution_count": null,
      "outputs": []
    },
    {
      "cell_type": "code",
      "source": [
        "x=[1,2,\"india\",256]\n",
        "print(x[0])\n",
        "print(x[-1])\n",
        "print([2])\n",
        "print(x[-2])\n",
        "print(x[0:3])\n",
        "print(x[-2:])"
      ],
      "metadata": {
        "id": "L4eMBehVle4M"
      },
      "execution_count": null,
      "outputs": []
    },
    {
      "cell_type": "code",
      "source": [
        "x.append(\"amal\")\n",
        "print(x)"
      ],
      "metadata": {
        "id": "M5Wim3GBn7YP"
      },
      "execution_count": null,
      "outputs": []
    },
    {
      "cell_type": "code",
      "source": [
        "x.append(\"sanath\")\n",
        "print(x)"
      ],
      "metadata": {
        "id": "RaRZu4zCpAaI"
      },
      "execution_count": null,
      "outputs": []
    },
    {
      "cell_type": "code",
      "source": [
        "x.insert(1,\"toms\")\n",
        "print(x)"
      ],
      "metadata": {
        "id": "pd1l0egMqVwX"
      },
      "execution_count": null,
      "outputs": []
    },
    {
      "cell_type": "code",
      "source": [
        "from traitlets.config.application import T\n",
        "x=[\"vimal\",\"alan\",\"sagar\"]\n",
        "t=x[0]\n",
        "x[0]=x[-1]\n",
        "x[-1]=t\n",
        "print(x)\n"
      ],
      "metadata": {
        "id": "r8F2Kr6vq3Uj"
      },
      "execution_count": null,
      "outputs": []
    }
  ]
}